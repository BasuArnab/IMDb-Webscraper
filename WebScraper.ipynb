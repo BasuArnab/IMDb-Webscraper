{
 "cells": [
  {
   "cell_type": "code",
   "execution_count": 2,
   "metadata": {},
   "outputs": [
    {
     "name": "stdout",
     "output_type": "stream",
     "text": [
      "Page 1 Completed\n",
      "Page 2 Completed\n",
      "Page 3 Completed\n",
      "Page 4 Completed\n",
      "Page 5 Completed\n",
      "Page 6 Completed\n",
      "Page 7 Completed\n",
      "Page 8 Completed\n",
      "Page 9 Completed\n",
      "Page 10 Completed\n",
      "Page 11 Completed\n",
      "Page 12 Completed\n",
      "Page 13 Completed\n",
      "Page 14 Completed\n",
      "Page 15 Completed\n",
      "Page 16 Completed\n",
      "Page 17 Completed\n",
      "Page 18 Completed\n",
      "Page 19 Completed\n",
      "Page 20 Completed\n",
      "Page 21 Completed\n",
      "Page 22 Completed\n",
      "Page 23 Completed\n",
      "Page 24 Completed\n",
      "Page 25 Completed\n",
      "Page 26 Completed\n",
      "Page 27 Completed\n",
      "Page 28 Completed\n",
      "Page 29 Completed\n",
      "Page 30 Completed\n",
      "Page 31 Completed\n",
      "Page 32 Completed\n",
      "Page 33 Completed\n",
      "Page 34 Completed\n",
      "Page 35 Completed\n",
      "Page 36 Completed\n",
      "Page 37 Completed\n",
      "Page 38 Completed\n",
      "Page 39 Completed\n",
      "Page 40 Completed\n",
      "Page 41 Completed\n",
      "Page 42 Completed\n",
      "Page 43 Completed\n",
      "Page 44 Completed\n",
      "Page 45 Completed\n",
      "Page 46 Completed\n",
      "Page 47 Completed\n",
      "Page 48 Completed\n",
      "Page 49 Completed\n",
      "Page 50 Completed\n",
      "Page 51 Completed\n",
      "Page 52 Completed\n",
      "Page 53 Completed\n",
      "Page 54 Completed\n",
      "Page 55 Completed\n",
      "Page 56 Completed\n",
      "Page 57 Completed\n",
      "Page 58 Completed\n",
      "Page 59 Completed\n",
      "Page 60 Completed\n",
      "Page 61 Completed\n",
      "Page 62 Completed\n",
      "Page 63 Completed\n",
      "Page 64 Completed\n",
      "Page 65 Completed\n",
      "Page 66 Completed\n",
      "Page 67 Completed\n",
      "Page 68 Completed\n",
      "Page 69 Completed\n",
      "Page 70 Completed\n",
      "Page 71 Completed\n",
      "Page 72 Completed\n",
      "Page 73 Completed\n",
      "Page 74 Completed\n",
      "Page 75 Completed\n",
      "Page 76 Completed\n",
      "Page 77 Completed\n",
      "Page 78 Completed\n",
      "Page 79 Completed\n",
      "Page 80 Completed\n",
      "Page 81 Completed\n",
      "Page 82 Completed\n",
      "Page 83 Completed\n",
      "Page 84 Completed\n",
      "Page 85 Completed\n",
      "Page 86 Completed\n",
      "Page 87 Completed\n",
      "Page 88 Completed\n",
      "Page 89 Completed\n",
      "Page 90 Completed\n",
      "Page 91 Completed\n",
      "Page 92 Completed\n",
      "Page 93 Completed\n",
      "Page 94 Completed\n",
      "Page 95 Completed\n",
      "Page 96 Completed\n",
      "Page 97 Completed\n",
      "Page 98 Completed\n",
      "Page 99 Completed\n",
      "Page 100 Completed\n",
      "Page 101 Completed\n",
      "Page 102 Completed\n",
      "Page 103 Completed\n",
      "Page 104 Completed\n",
      "Page 105 Completed\n",
      "Page 106 Completed\n",
      "Page 107 Completed\n",
      "Page 108 Completed\n",
      "Page 109 Completed\n",
      "Page 110 Completed\n",
      "Page 111 Completed\n",
      "Page 112 Completed\n",
      "Page 113 Completed\n",
      "Page 114 Completed\n",
      "Page 115 Completed\n",
      "Page 116 Completed\n",
      "Page 117 Completed\n",
      "Page 118 Completed\n",
      "Page 119 Completed\n",
      "Page 120 Completed\n",
      "Page 121 Completed\n",
      "Page 122 Completed\n",
      "Page 123 Completed\n",
      "Page 124 Completed\n",
      "Page 125 Completed\n",
      "Page 126 Completed\n",
      "Page 127 Completed\n",
      "Page 128 Completed\n",
      "Page 129 Completed\n",
      "Page 130 Completed\n",
      "Page 131 Completed\n",
      "Page 132 Completed\n",
      "Page 133 Completed\n",
      "Page 134 Completed\n",
      "Page 135 Completed\n",
      "Page 136 Completed\n",
      "Page 137 Completed\n",
      "Page 138 Completed\n",
      "Page 139 Completed\n",
      "Page 140 Completed\n",
      "Page 141 Completed\n",
      "Page 142 Completed\n",
      "Page 143 Completed\n",
      "Page 144 Completed\n",
      "Page 145 Completed\n",
      "Page 146 Completed\n",
      "Page 147 Completed\n",
      "Page 148 Completed\n",
      "Page 149 Completed\n",
      "Page 150 Completed\n",
      "Page 151 Completed\n",
      "Page 152 Completed\n",
      "Page 153 Completed\n",
      "Page 154 Completed\n",
      "Page 155 Completed\n",
      "Page 156 Completed\n",
      "Page 157 Completed\n",
      "Page 158 Completed\n",
      "Page 159 Completed\n",
      "Page 160 Completed\n",
      "Page 161 Completed\n",
      "Page 162 Completed\n",
      "Page 163 Completed\n",
      "Page 164 Completed\n",
      "Page 165 Completed\n",
      "Page 166 Completed\n",
      "Page 167 Completed\n",
      "Page 168 Completed\n",
      "Page 169 Completed\n",
      "Page 170 Completed\n",
      "Page 171 Completed\n",
      "Page 172 Completed\n",
      "Page 173 Completed\n",
      "Page 174 Completed\n",
      "Page 175 Completed\n",
      "Page 176 Completed\n",
      "Page 177 Completed\n",
      "Page 178 Completed\n",
      "Page 179 Completed\n",
      "Page 180 Completed\n",
      "Page 181 Completed\n",
      "Page 182 Completed\n",
      "Page 183 Completed\n",
      "Page 184 Completed\n",
      "Page 185 Completed\n",
      "Page 186 Completed\n",
      "Page 187 Completed\n",
      "Page 188 Completed\n",
      "Page 189 Completed\n",
      "Page 190 Completed\n",
      "Page 191 Completed\n",
      "Page 192 Completed\n",
      "Page 193 Completed\n",
      "Page 194 Completed\n",
      "Page 195 Completed\n",
      "Page 196 Completed\n",
      "Page 197 Completed\n",
      "Page 198 Completed\n",
      "Page 199 Completed\n",
      "Page 200 Completed\n",
      "Page 201 Completed\n",
      "Page 202 Completed\n",
      "Page 203 Completed\n",
      "Page 204 Completed\n",
      "Page 205 Completed\n",
      "Page 206 Completed\n",
      "Page 207 Completed\n",
      "Page 208 Completed\n",
      "Page 209 Completed\n",
      "Page 210 Completed\n",
      "Page 211 Completed\n",
      "Page 212 Completed\n",
      "Page 213 Completed\n",
      "Page 214 Completed\n",
      "Page 215 Completed\n",
      "Page 216 Completed\n",
      "Page 217 Completed\n",
      "Page 218 Completed\n",
      "Page 219 Completed\n",
      "Page 220 Completed\n",
      "Page 221 Completed\n",
      "Page 222 Completed\n",
      "Page 223 Completed\n",
      "Page 224 Completed\n",
      "Page 225 Completed\n",
      "Page 226 Completed\n",
      "Page 227 Completed\n",
      "Page 228 Completed\n",
      "Page 229 Completed\n",
      "Page 230 Completed\n",
      "Page 231 Completed\n",
      "Page 232 Completed\n",
      "Page 233 Completed\n",
      "Page 234 Completed\n",
      "Page 235 Completed\n",
      "Page 236 Completed\n",
      "Page 237 Completed\n",
      "Page 238 Completed\n",
      "Page 239 Completed\n",
      "Page 240 Completed\n",
      "Page 241 Completed\n",
      "Page 242 Completed\n",
      "Page 243 Completed\n",
      "Page 244 Completed\n",
      "Page 245 Completed\n",
      "Page 246 Completed\n",
      "Page 247 Completed\n",
      "Page 248 Completed\n",
      "Page 249 Completed\n",
      "Page 250 Completed\n"
     ]
    }
   ],
   "source": [
    "import requests\n",
    "from bs4 import BeautifulSoup\n",
    "r= requests.get(\"http://www.imdb.com/india/top-rated-indian-movies/\")\n",
    "c=r.content\n",
    "soup= BeautifulSoup(c,\"html.parser\")\n",
    "all=soup.find_all(\"td\",{\"class\":\"titleColumn\"})\n",
    "all2=soup.find_all(\"td\",{\"class\":\"ratingColumn imdbRating\"})\n",
    "l=[]\n",
    "count=0\n",
    "for i,j in zip(all,all2):\n",
    "    d={}\n",
    "    d[\"Name\"]=i.find(\"a\").text\n",
    "    d[\"Year\"]=i.find(\"span\",{\"class\":\"secondaryInfo\"}).text.replace(\"(\",\"\").replace(\")\",\"\")\n",
    "    d[\"Rating\"]=j.find(\"strong\").text\n",
    "\n",
    "    s=str(i.find(\"a\"))[8:].split()\n",
    "    \n",
    "    #the following code will give the description, duration and genre of any imdb movie. just make s equal to the link of the movie.\n",
    "    s=\"http://www.imdb.com\"+ str(s[0])[1:][:-1]    \n",
    "    r2=requests.get(s)\n",
    "    c2=r2.content\n",
    "    soup2=BeautifulSoup(c2,\"html.parser\")\n",
    "    all3=soup2.find(\"meta\",{\"name\":\"description\"})\n",
    "    desc=str(all3)[15:][:-22]\n",
    "    all4=soup2.find(\"time\",{\"itemprop\":\"duration\"})\n",
    "    duration=all4.text\n",
    "    rd=duration.replace(\"\\n\",\"\").replace(\" \",\"\")\n",
    "    genre=\"\"\n",
    "    for k in soup2.find_all(\"span\",{\"itemprop\":\"genre\"}):\n",
    "        genre+=k.text+\",\"\n",
    "    #till here\n",
    "    \n",
    "    d[\"Description\"]=desc\n",
    "    d[\"Duration\"]=rd\n",
    "    d[\"Genre\"]=genre\n",
    "    l.append(d)\n",
    "    count+=1\n",
    "    print(\"Page \"+ str(count) + \" Completed\")\n",
    "import pandas\n",
    "df=pandas.DataFrame(l)\n",
    "df.to_csv(\"IOutput.csv\")\n"
   ]
  },
  {
   "cell_type": "code",
   "execution_count": null,
   "metadata": {
    "collapsed": true
   },
   "outputs": [],
   "source": []
  },
  {
   "cell_type": "code",
   "execution_count": null,
   "metadata": {
    "collapsed": true
   },
   "outputs": [],
   "source": []
  },
  {
   "cell_type": "code",
   "execution_count": null,
   "metadata": {
    "collapsed": true
   },
   "outputs": [],
   "source": []
  },
  {
   "cell_type": "code",
   "execution_count": null,
   "metadata": {
    "collapsed": true
   },
   "outputs": [],
   "source": []
  },
  {
   "cell_type": "code",
   "execution_count": null,
   "metadata": {
    "collapsed": true
   },
   "outputs": [],
   "source": []
  },
  {
   "cell_type": "code",
   "execution_count": null,
   "metadata": {
    "collapsed": true
   },
   "outputs": [],
   "source": []
  },
  {
   "cell_type": "code",
   "execution_count": null,
   "metadata": {
    "collapsed": true
   },
   "outputs": [],
   "source": []
  },
  {
   "cell_type": "code",
   "execution_count": null,
   "metadata": {
    "collapsed": true
   },
   "outputs": [],
   "source": []
  },
  {
   "cell_type": "code",
   "execution_count": null,
   "metadata": {
    "collapsed": true
   },
   "outputs": [],
   "source": []
  },
  {
   "cell_type": "code",
   "execution_count": null,
   "metadata": {
    "collapsed": true
   },
   "outputs": [],
   "source": []
  },
  {
   "cell_type": "code",
   "execution_count": null,
   "metadata": {
    "collapsed": true
   },
   "outputs": [],
   "source": []
  },
  {
   "cell_type": "code",
   "execution_count": null,
   "metadata": {
    "collapsed": true
   },
   "outputs": [],
   "source": []
  },
  {
   "cell_type": "code",
   "execution_count": null,
   "metadata": {
    "collapsed": true
   },
   "outputs": [],
   "source": []
  },
  {
   "cell_type": "code",
   "execution_count": null,
   "metadata": {
    "collapsed": true
   },
   "outputs": [],
   "source": []
  },
  {
   "cell_type": "code",
   "execution_count": null,
   "metadata": {
    "collapsed": true
   },
   "outputs": [],
   "source": []
  },
  {
   "cell_type": "code",
   "execution_count": null,
   "metadata": {
    "collapsed": true
   },
   "outputs": [],
   "source": []
  },
  {
   "cell_type": "code",
   "execution_count": null,
   "metadata": {
    "collapsed": true
   },
   "outputs": [],
   "source": []
  },
  {
   "cell_type": "code",
   "execution_count": null,
   "metadata": {
    "collapsed": true
   },
   "outputs": [],
   "source": []
  },
  {
   "cell_type": "code",
   "execution_count": null,
   "metadata": {
    "collapsed": true
   },
   "outputs": [],
   "source": []
  },
  {
   "cell_type": "code",
   "execution_count": null,
   "metadata": {
    "collapsed": true
   },
   "outputs": [],
   "source": []
  },
  {
   "cell_type": "code",
   "execution_count": null,
   "metadata": {
    "collapsed": true
   },
   "outputs": [],
   "source": []
  },
  {
   "cell_type": "code",
   "execution_count": null,
   "metadata": {
    "collapsed": true
   },
   "outputs": [],
   "source": []
  },
  {
   "cell_type": "code",
   "execution_count": null,
   "metadata": {
    "collapsed": true
   },
   "outputs": [],
   "source": []
  },
  {
   "cell_type": "code",
   "execution_count": null,
   "metadata": {
    "collapsed": true
   },
   "outputs": [],
   "source": []
  },
  {
   "cell_type": "code",
   "execution_count": null,
   "metadata": {
    "collapsed": true
   },
   "outputs": [],
   "source": []
  },
  {
   "cell_type": "code",
   "execution_count": null,
   "metadata": {
    "collapsed": true
   },
   "outputs": [],
   "source": []
  },
  {
   "cell_type": "code",
   "execution_count": null,
   "metadata": {
    "collapsed": true
   },
   "outputs": [],
   "source": []
  },
  {
   "cell_type": "code",
   "execution_count": null,
   "metadata": {
    "collapsed": true
   },
   "outputs": [],
   "source": []
  },
  {
   "cell_type": "code",
   "execution_count": null,
   "metadata": {
    "collapsed": true
   },
   "outputs": [],
   "source": []
  },
  {
   "cell_type": "code",
   "execution_count": null,
   "metadata": {
    "collapsed": true
   },
   "outputs": [],
   "source": []
  },
  {
   "cell_type": "code",
   "execution_count": null,
   "metadata": {
    "collapsed": true
   },
   "outputs": [],
   "source": []
  },
  {
   "cell_type": "code",
   "execution_count": null,
   "metadata": {
    "collapsed": true
   },
   "outputs": [],
   "source": []
  },
  {
   "cell_type": "code",
   "execution_count": null,
   "metadata": {
    "collapsed": true
   },
   "outputs": [],
   "source": []
  },
  {
   "cell_type": "code",
   "execution_count": null,
   "metadata": {
    "collapsed": true
   },
   "outputs": [],
   "source": []
  },
  {
   "cell_type": "code",
   "execution_count": null,
   "metadata": {
    "collapsed": true
   },
   "outputs": [],
   "source": []
  },
  {
   "cell_type": "code",
   "execution_count": null,
   "metadata": {
    "collapsed": true
   },
   "outputs": [],
   "source": []
  },
  {
   "cell_type": "code",
   "execution_count": null,
   "metadata": {
    "collapsed": true
   },
   "outputs": [],
   "source": []
  },
  {
   "cell_type": "code",
   "execution_count": null,
   "metadata": {
    "collapsed": true
   },
   "outputs": [],
   "source": []
  },
  {
   "cell_type": "code",
   "execution_count": null,
   "metadata": {
    "collapsed": true
   },
   "outputs": [],
   "source": []
  },
  {
   "cell_type": "code",
   "execution_count": null,
   "metadata": {
    "collapsed": true
   },
   "outputs": [],
   "source": []
  },
  {
   "cell_type": "code",
   "execution_count": null,
   "metadata": {
    "collapsed": true
   },
   "outputs": [],
   "source": []
  },
  {
   "cell_type": "code",
   "execution_count": null,
   "metadata": {
    "collapsed": true
   },
   "outputs": [],
   "source": []
  },
  {
   "cell_type": "code",
   "execution_count": null,
   "metadata": {
    "collapsed": true
   },
   "outputs": [],
   "source": []
  },
  {
   "cell_type": "code",
   "execution_count": null,
   "metadata": {
    "collapsed": true
   },
   "outputs": [],
   "source": []
  },
  {
   "cell_type": "code",
   "execution_count": null,
   "metadata": {
    "collapsed": true
   },
   "outputs": [],
   "source": [
    "\n",
    "\n",
    "\n",
    "\n"
   ]
  },
  {
   "cell_type": "code",
   "execution_count": null,
   "metadata": {
    "collapsed": true
   },
   "outputs": [],
   "source": []
  },
  {
   "cell_type": "code",
   "execution_count": null,
   "metadata": {
    "collapsed": true
   },
   "outputs": [],
   "source": []
  },
  {
   "cell_type": "code",
   "execution_count": null,
   "metadata": {
    "collapsed": true
   },
   "outputs": [],
   "source": []
  },
  {
   "cell_type": "code",
   "execution_count": null,
   "metadata": {
    "collapsed": true
   },
   "outputs": [],
   "source": []
  },
  {
   "cell_type": "code",
   "execution_count": null,
   "metadata": {
    "collapsed": true
   },
   "outputs": [],
   "source": [
    "\n",
    "\n",
    "\n",
    "\n",
    "\n",
    "\n",
    "\n",
    "\n"
   ]
  },
  {
   "cell_type": "code",
   "execution_count": null,
   "metadata": {
    "collapsed": true
   },
   "outputs": [],
   "source": []
  },
  {
   "cell_type": "code",
   "execution_count": null,
   "metadata": {
    "collapsed": true
   },
   "outputs": [],
   "source": []
  },
  {
   "cell_type": "code",
   "execution_count": null,
   "metadata": {
    "collapsed": true
   },
   "outputs": [],
   "source": []
  },
  {
   "cell_type": "code",
   "execution_count": null,
   "metadata": {
    "collapsed": true
   },
   "outputs": [],
   "source": []
  },
  {
   "cell_type": "code",
   "execution_count": null,
   "metadata": {
    "collapsed": true
   },
   "outputs": [],
   "source": []
  },
  {
   "cell_type": "code",
   "execution_count": null,
   "metadata": {
    "collapsed": true
   },
   "outputs": [],
   "source": []
  },
  {
   "cell_type": "code",
   "execution_count": null,
   "metadata": {
    "collapsed": true
   },
   "outputs": [],
   "source": []
  },
  {
   "cell_type": "code",
   "execution_count": null,
   "metadata": {
    "collapsed": true
   },
   "outputs": [],
   "source": []
  },
  {
   "cell_type": "code",
   "execution_count": null,
   "metadata": {
    "collapsed": true
   },
   "outputs": [],
   "source": []
  },
  {
   "cell_type": "code",
   "execution_count": null,
   "metadata": {
    "collapsed": true
   },
   "outputs": [],
   "source": []
  },
  {
   "cell_type": "code",
   "execution_count": null,
   "metadata": {
    "collapsed": true
   },
   "outputs": [],
   "source": []
  },
  {
   "cell_type": "code",
   "execution_count": null,
   "metadata": {
    "collapsed": true
   },
   "outputs": [],
   "source": []
  },
  {
   "cell_type": "code",
   "execution_count": null,
   "metadata": {
    "collapsed": true
   },
   "outputs": [],
   "source": []
  },
  {
   "cell_type": "code",
   "execution_count": null,
   "metadata": {
    "collapsed": true
   },
   "outputs": [],
   "source": []
  },
  {
   "cell_type": "code",
   "execution_count": null,
   "metadata": {
    "collapsed": true
   },
   "outputs": [],
   "source": []
  },
  {
   "cell_type": "code",
   "execution_count": null,
   "metadata": {
    "collapsed": true
   },
   "outputs": [],
   "source": []
  },
  {
   "cell_type": "code",
   "execution_count": null,
   "metadata": {
    "collapsed": true
   },
   "outputs": [],
   "source": []
  },
  {
   "cell_type": "code",
   "execution_count": null,
   "metadata": {
    "collapsed": true
   },
   "outputs": [],
   "source": []
  },
  {
   "cell_type": "code",
   "execution_count": null,
   "metadata": {
    "collapsed": true
   },
   "outputs": [],
   "source": []
  },
  {
   "cell_type": "code",
   "execution_count": null,
   "metadata": {
    "collapsed": true
   },
   "outputs": [],
   "source": []
  },
  {
   "cell_type": "code",
   "execution_count": null,
   "metadata": {
    "collapsed": true
   },
   "outputs": [],
   "source": []
  },
  {
   "cell_type": "code",
   "execution_count": null,
   "metadata": {
    "collapsed": true
   },
   "outputs": [],
   "source": []
  },
  {
   "cell_type": "code",
   "execution_count": null,
   "metadata": {
    "collapsed": true
   },
   "outputs": [],
   "source": []
  },
  {
   "cell_type": "code",
   "execution_count": null,
   "metadata": {
    "collapsed": true
   },
   "outputs": [],
   "source": []
  },
  {
   "cell_type": "code",
   "execution_count": null,
   "metadata": {
    "collapsed": true
   },
   "outputs": [],
   "source": []
  },
  {
   "cell_type": "code",
   "execution_count": null,
   "metadata": {
    "collapsed": true
   },
   "outputs": [],
   "source": []
  }
 ],
 "metadata": {
  "kernelspec": {
   "display_name": "Python 3",
   "language": "python",
   "name": "python3"
  },
  "language_info": {
   "codemirror_mode": {
    "name": "ipython",
    "version": 3
   },
   "file_extension": ".py",
   "mimetype": "text/x-python",
   "name": "python",
   "nbconvert_exporter": "python",
   "pygments_lexer": "ipython3",
   "version": "3.6.3"
  }
 },
 "nbformat": 4,
 "nbformat_minor": 2
}
