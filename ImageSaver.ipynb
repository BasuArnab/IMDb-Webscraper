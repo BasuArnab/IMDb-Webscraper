{
 "cells": [
  {
   "cell_type": "code",
   "execution_count": null,
   "metadata": {},
   "outputs": [],
   "source": [
    "import requests\n",
    "import urllib.request\n",
    "from bs4 import BeautifulSoup\n",
    "r= requests.get(\"http://www.imdb.com/india/top-rated-indian-movies/\")\n",
    "c=r.content\n",
    "soup= BeautifulSoup(c,\"html.parser\")\n",
    "all=soup.find_all(\"td\",{\"class\":\"titleColumn\"})\n",
    "all2=soup.find_all(\"td\",{\"class\":\"ratingColumn imdbRating\"})\n",
    "l=[]\n",
    "count=0\n",
    "for i,j in zip(all,all2):\n",
    "    #the following code will give the description, duration and genre of any imdb movie. just make s equal to the link of the movie.\n",
    "    s=str(i.find(\"a\"))[8:].split()\n",
    "    s=\"http://www.imdb.com\"+ str(s[0])[1:][:-1]    \n",
    "    r2=requests.get(s)\n",
    "    c2=r2.content\n",
    "    soup2=BeautifulSoup(c2,\"html.parser\")\n",
    "    all3=soup2.find(\"link\",{\"rel\":\"image_src\"})\n",
    "    urllib.request.urlretrieve(str(all3)[12:][:-19], str(count)+\".jpg\")\n",
    "    count+=1\n",
    "    print(\"Page \"+ str(count) + \" Completed\")\n"
   ]
  }
 ],
 "metadata": {
  "kernelspec": {
   "display_name": "Python 3",
   "language": "python",
   "name": "python3"
  },
  "language_info": {
   "codemirror_mode": {
    "name": "ipython",
    "version": 3
   },
   "file_extension": ".py",
   "mimetype": "text/x-python",
   "name": "python",
   "nbconvert_exporter": "python",
   "pygments_lexer": "ipython3",
   "version": "3.6.3"
  }
 },
 "nbformat": 4,
 "nbformat_minor": 2
}
